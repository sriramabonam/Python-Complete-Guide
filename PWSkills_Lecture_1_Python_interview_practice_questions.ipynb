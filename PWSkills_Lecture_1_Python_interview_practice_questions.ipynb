{
  "nbformat": 4,
  "nbformat_minor": 0,
  "metadata": {
    "colab": {
      "provenance": [],
      "authorship_tag": "ABX9TyNNNLSIxiMGHs+fvxUqt3Pf",
      "include_colab_link": true
    },
    "kernelspec": {
      "name": "python3",
      "display_name": "Python 3"
    },
    "language_info": {
      "name": "python"
    }
  },
  "cells": [
    {
      "cell_type": "markdown",
      "metadata": {
        "id": "view-in-github",
        "colab_type": "text"
      },
      "source": [
        "<a href=\"https://colab.research.google.com/github/sriramabonam/Python-Complete-Guide/blob/main/PWSkills_Lecture_1_Python_interview_practice_questions.ipynb\" target=\"_parent\"><img src=\"https://colab.research.google.com/assets/colab-badge.svg\" alt=\"Open In Colab\"/></a>"
      ]
    },
    {
      "cell_type": "code",
      "execution_count": null,
      "metadata": {
        "colab": {
          "base_uri": "https://localhost:8080/"
        },
        "id": "le6493AAzxh9",
        "outputId": "8e8a656f-874a-4ed3-c5f5-adb22056c09e"
      },
      "outputs": [
        {
          "output_type": "stream",
          "name": "stdout",
          "text": [
            "5\n"
          ]
        }
      ],
      "source": [
        "num1 = 2\n",
        "num2 = 3\n",
        "sum = num1+num2\n",
        "print(sum)"
      ]
    },
    {
      "cell_type": "code",
      "source": [
        "def palindrome(str):\n",
        "  rev_str = str[::-1]\n",
        "  if str == rev_str:\n",
        "    print(\"yes\")\n",
        "  else:\n",
        "      print(\"no\")\n",
        "      str = \"ineuron\"\n",
        "palindrome(str)"
      ],
      "metadata": {
        "colab": {
          "base_uri": "https://localhost:8080/"
        },
        "id": "vHl9vgdO0v5n",
        "outputId": "145ca285-9925-4924-d8b2-b7aa38ad4834"
      },
      "execution_count": null,
      "outputs": [
        {
          "output_type": "stream",
          "name": "stdout",
          "text": [
            "no\n"
          ]
        }
      ]
    },
    {
      "cell_type": "code",
      "source": [
        "  def factorial(n):\n",
        "    return n * factorial(n-1)\n",
        "  def factorial(num):\n",
        "    if num == 0:\n",
        "      return 1\n",
        "    else:\n",
        "      return num*factorial(num-1)\n",
        "  result = factorial(4)\n",
        "  print(result)"
      ],
      "metadata": {
        "colab": {
          "base_uri": "https://localhost:8080/"
        },
        "id": "nikOYRKN4IJ6",
        "outputId": "d596b9de-36f0-46d2-cf63-85f33231a40b"
      },
      "execution_count": null,
      "outputs": [
        {
          "output_type": "stream",
          "name": "stdout",
          "text": [
            "24\n"
          ]
        }
      ]
    },
    {
      "cell_type": "code",
      "source": [
        "list =  [1,2,3,10,2,1,98,3,4,5,4,1]\n",
        "element = 1\n",
        "count = 0\n",
        "for i in list:\n",
        "  if i == element:\n",
        "    count+=1\n",
        "print(count)"
      ],
      "metadata": {
        "colab": {
          "base_uri": "https://localhost:8080/"
        },
        "id": "M9-LOc7t6s3R",
        "outputId": "ac2551c7-17f4-4383-f3a3-910c261b67f7"
      },
      "execution_count": null,
      "outputs": [
        {
          "output_type": "stream",
          "name": "stdout",
          "text": [
            "3\n"
          ]
        }
      ]
    },
    {
      "cell_type": "code",
      "source": [
        "def reverse_str(str):\n",
        "  rev_str = \" \"\n",
        "  for i in range(len(str)-1,-1,-1):\n",
        "    rev_str = rev_str+str[i]\n",
        "  print(rev_str)\n",
        "str = \"ineuron\"\n",
        "reverse_str(str)"
      ],
      "metadata": {
        "colab": {
          "base_uri": "https://localhost:8080/"
        },
        "id": "vx7ng1UW78dg",
        "outputId": "6975c133-b59c-45a4-c325-3cc0e90af110"
      },
      "execution_count": null,
      "outputs": [
        {
          "output_type": "stream",
          "name": "stdout",
          "text": [
            " norueni\n"
          ]
        }
      ]
    },
    {
      "cell_type": "code",
      "source": [
        "def reverse_str1(str):\n",
        "  rev_str1 = \" \"\n",
        "  for i in str:\n",
        "    rev_str1 = i + rev_str1\n",
        "  print(rev_str1)\n",
        "str = \"ineuron\"\n",
        "reverse_str1(str)"
      ],
      "metadata": {
        "colab": {
          "base_uri": "https://localhost:8080/"
        },
        "id": "H-3yvVIeE9oC",
        "outputId": "31770d50-8e34-4fec-bdee-5eace3103240"
      },
      "execution_count": null,
      "outputs": [
        {
          "output_type": "stream",
          "name": "stdout",
          "text": [
            "norueni \n"
          ]
        }
      ]
    },
    {
      "cell_type": "code",
      "source": [],
      "metadata": {
        "id": "Nz-5FMk7HXy5"
      },
      "execution_count": null,
      "outputs": []
    }
  ]
}